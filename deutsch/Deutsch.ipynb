{
 "cells": [
  {
   "cell_type": "markdown",
   "metadata": {},
   "source": [
    "### Algoritmo de Deutsch"
   ]
  },
  {
   "cell_type": "markdown",
   "metadata": {},
   "source": [
    "O problema é verificar se determinar função $f(x)$ é constante ou balanceada."
   ]
  },
  {
   "cell_type": "markdown",
   "metadata": {},
   "source": [
    "Constante:\n",
    "\n",
    "x | f | f\n",
    "-- |-- | --\n",
    "0  | 0 | 1\n",
    "1  | 0 | 1\n"
   ]
  },
  {
   "cell_type": "markdown",
   "metadata": {},
   "source": [
    "Balanceada:\n",
    "\n",
    "x | f | f\n",
    "--|-- | --\n",
    "0 | 0 | 1\n",
    "1 | 1 | 0\n"
   ]
  },
  {
   "cell_type": "markdown",
   "metadata": {},
   "source": [
    "No clássico, para termos certeza dessa afirmação, teríamos que testar para os valores de $x = \\{0,1\\}$, para termos a conlusão, testando assim para cada possível entrada.\n",
    "\n",
    "Na computação quântica, esse problema é resolvido pelo Algoritmo de Deutsch, representado pelo seguinte circuito:\n",
    "\n",
    "![](Deutsch_algorithm_circuit.png)"
   ]
  },
  {
   "cell_type": "markdown",
   "metadata": {},
   "source": [
    "Onde a operação representada pelo operador $U_{f}$ será nosso oráculo que irá operar sobre os qubits, avaliando como um todo nossa $f$, pois se aproveita do paralelismo quântico, assim podemos com 1 (uma) única medida afirmar se a função é balanceada ou constante.\n",
    "\n",
    "Para caso $M(q_{1})=0$ a função é CONSTANTE, caso $M(q_{1})=1$ a função é BALANCEADA. Sendo $q_{1}$ o primeiro qubit do circuito.\n"
   ]
  },
  {
   "cell_type": "markdown",
   "metadata": {},
   "source": [
    "Porém, foi verificado que a inclusão de $q_{2}$ nesse circuito é considerada redundante, podendo ser simplificado para o seguinte circuito abaixo, chamado Minimal Deutsch Algorithm, que utiliza um único qubit ([2012](https://www.researchgate.net/publication/235476206_Double-slit_implementation_of_the_minimal_Deutsch_algorithm)):\n",
    "\n",
    "![](Deutsch_algorithm_circuit_simple.png)"
   ]
  },
  {
   "cell_type": "markdown",
   "metadata": {},
   "source": [
    "Usando desse circuito vamos realizar a implementação do mesmo utilizando o Q\\#:\n",
    "\n",
    "Primeiro, vamos definir nossos oráculos, sendo estes os oráculo para as 4 funções possíveis nesse circuito:\n",
    "\n",
    "![](oraculos.png)\n"
   ]
  },
  {
   "cell_type": "markdown",
   "metadata": {},
   "source": [
    "### Testando o Algoritmo de Deutsch Simplificado\n",
    "\n",
    "Para testarmos o circuito, vamos implementá-lo junto com os oráculos e testá-lo:"
   ]
  },
  {
   "cell_type": "code",
   "execution_count": 1,
   "metadata": {},
   "outputs": [
    {
     "name": "stdout",
     "output_type": "stream",
     "text": [
      "/snippet_.qs(2,6): warning QS6003: The namespace is already open.\n"
     ]
    },
    {
     "data": {
      "application/json": "[]",
      "text/html": [
       "<ul></ul>"
      ],
      "text/plain": []
     },
     "execution_count": 1,
     "metadata": {},
     "output_type": "execute_result"
    }
   ],
   "source": [
    "// Incluir as bibliotecas necessárias\n",
    "open Microsoft.Quantum.Intrinsic;\n",
    "open Microsoft.Quantum.Measurement;"
   ]
  },
  {
   "cell_type": "markdown",
   "metadata": {},
   "source": [
    " - Identidade: $U_{00}$ [CONSTANTE]"
   ]
  },
  {
   "cell_type": "code",
   "execution_count": 2,
   "metadata": {},
   "outputs": [
    {
     "data": {
      "application/json": "[\"Oracle_I\"]",
      "text/html": [
       "<ul><li>Oracle_I</li></ul>"
      ],
      "text/plain": [
       "Oracle_I"
      ]
     },
     "execution_count": 2,
     "metadata": {},
     "output_type": "execute_result"
    }
   ],
   "source": [
    "// Identidade\n",
    "operation Oracle_I(x : Qubit) : Unit{\n",
    "    I(x);\n",
    "}"
   ]
  },
  {
   "cell_type": "markdown",
   "metadata": {},
   "source": [
    " - Pauli Z: $U_{01}$ [BALANCEADA]"
   ]
  },
  {
   "cell_type": "code",
   "execution_count": 3,
   "metadata": {},
   "outputs": [
    {
     "data": {
      "application/json": "[\"Oracle_Z\"]",
      "text/html": [
       "<ul><li>Oracle_Z</li></ul>"
      ],
      "text/plain": [
       "Oracle_Z"
      ]
     },
     "execution_count": 3,
     "metadata": {},
     "output_type": "execute_result"
    }
   ],
   "source": [
    "// Pauli_Z\n",
    "operation Oracle_Z(x : Qubit) : Unit{\n",
    "    Z(x);\n",
    "}"
   ]
  },
  {
   "cell_type": "markdown",
   "metadata": {},
   "source": [
    " - \\- Identidade: $U_{11}$ [CONSTANTE]"
   ]
  },
  {
   "cell_type": "code",
   "execution_count": 4,
   "metadata": {},
   "outputs": [
    {
     "data": {
      "application/json": "[\"Oracle_Menos_I\"]",
      "text/html": [
       "<ul><li>Oracle_Menos_I</li></ul>"
      ],
      "text/plain": [
       "Oracle_Menos_I"
      ]
     },
     "execution_count": 4,
     "metadata": {},
     "output_type": "execute_result"
    }
   ],
   "source": [
    "// Menos Identidade\n",
    "// Na identidade negativa, vamos aplicar uma mudança de fase global de -1 no estado, \n",
    "// para isso usamos a operação R, que irá rotacionar o eixo.\n",
    "open Microsoft.Quantum.Math;\n",
    "operation Oracle_Menos_I(x : Qubit) : Unit{\n",
    "    R(PauliI, 2.0 * PI(), x);\n",
    "}"
   ]
  },
  {
   "cell_type": "markdown",
   "metadata": {},
   "source": [
    " - \\- Pauli Z: $U_{10}$ [BALANCEADA]"
   ]
  },
  {
   "cell_type": "code",
   "execution_count": 5,
   "metadata": {},
   "outputs": [
    {
     "data": {
      "application/json": "[\"Oracle_Menos_Z\"]",
      "text/html": [
       "<ul><li>Oracle_Menos_Z</li></ul>"
      ],
      "text/plain": [
       "Oracle_Menos_Z"
      ]
     },
     "execution_count": 5,
     "metadata": {},
     "output_type": "execute_result"
    }
   ],
   "source": [
    "// Menos PauliZ\n",
    "open Microsoft.Quantum.Math;\n",
    "operation Oracle_Menos_Z(x : Qubit) : Unit{\n",
    "    Z(x);\n",
    "    R(PauliI, 2.0 * PI(), x);\n",
    "}"
   ]
  },
  {
   "cell_type": "markdown",
   "metadata": {},
   "source": [
    "Agora a implementação do circuito:"
   ]
  },
  {
   "cell_type": "code",
   "execution_count": 6,
   "metadata": {},
   "outputs": [
    {
     "data": {
      "application/json": "[\"MinimalDeutschAlgorithm\"]",
      "text/html": [
       "<ul><li>MinimalDeutschAlgorithm</li></ul>"
      ],
      "text/plain": [
       "MinimalDeutschAlgorithm"
      ]
     },
     "execution_count": 6,
     "metadata": {},
     "output_type": "execute_result"
    }
   ],
   "source": [
    "operation MinimalDeutschAlgorithm(oracle : (Qubit => Unit)) : Unit{\n",
    "        using (q = Qubit()){\n",
    "        \n",
    "            H(q);\n",
    "            oracle(q);\n",
    "            H(q);\n",
    "\n",
    "            if(M(q) == Zero){\n",
    "                Message(\"Is constant!\");\n",
    "            }\n",
    "            else{\n",
    "                Message(\"Is balanced!\");\n",
    "            }\n",
    "            Reset(q);\n",
    "        }\n",
    "    }"
   ]
  },
  {
   "cell_type": "markdown",
   "metadata": {},
   "source": [
    "Vamos aos testes:"
   ]
  },
  {
   "cell_type": "code",
   "execution_count": 7,
   "metadata": {},
   "outputs": [
    {
     "data": {
      "application/json": "[\"Testes\"]",
      "text/html": [
       "<ul><li>Testes</li></ul>"
      ],
      "text/plain": [
       "Testes"
      ]
     },
     "execution_count": 7,
     "metadata": {},
     "output_type": "execute_result"
    }
   ],
   "source": [
    "operation Testes() : Unit{\n",
    "    Message(\"----------------------\");\n",
    "    Message(\"Identidade: \");\n",
    "    MinimalDeutschAlgorithm(Oracle_I);\n",
    "    Message(\"----------------------\");\n",
    "    Message(\"PauliZ: \");\n",
    "    MinimalDeutschAlgorithm(Oracle_Z);\n",
    "    Message(\"----------------------\");\n",
    "    Message(\"-Identidade: \");\n",
    "    MinimalDeutschAlgorithm(Oracle_Menos_I);\n",
    "    Message(\"----------------------\");\n",
    "    Message(\"-PauliZ: \");\n",
    "    MinimalDeutschAlgorithm(Oracle_Menos_Z);\n",
    "    Message(\"----------------------\");\n",
    "}"
   ]
  },
  {
   "cell_type": "code",
   "execution_count": 8,
   "metadata": {},
   "outputs": [
    {
     "name": "stdout",
     "output_type": "stream",
     "text": [
      "----------------------\n",
      "Identidade: \n",
      "Is constant!\n",
      "----------------------\n",
      "PauliZ: \n",
      "Is balanced!\n",
      "----------------------\n",
      "-Identidade: \n",
      "Is constant!\n",
      "----------------------\n",
      "-PauliZ: \n",
      "Is balanced!\n",
      "----------------------\n"
     ]
    },
    {
     "data": {
      "application/json": "{\"@type\":\"tuple\"}",
      "text/plain": [
       "()"
      ]
     },
     "execution_count": 8,
     "metadata": {},
     "output_type": "execute_result"
    }
   ],
   "source": [
    "%simulate Testes"
   ]
  },
  {
   "cell_type": "markdown",
   "metadata": {},
   "source": [
    "Podemos concluir, que obtivemos os resultados esperados utilizando este circuito, e com apenas 1 (uma) medida foi realmente possível determinar se a função é constante ou balanceada."
   ]
  },
  {
   "cell_type": "markdown",
   "metadata": {},
   "source": [
    "### Algoritmo de Deutsch\n",
    "\n",
    "Para ilustrar, vamos recriar a operação para o algoritmo incluindo o segundo qubit.\n",
    "\n",
    "![](Deutsch_algorithm_circuit.png)\n"
   ]
  },
  {
   "cell_type": "code",
   "execution_count": 14,
   "metadata": {},
   "outputs": [
    {
     "data": {
      "application/json": "[\"DeutschAlgorithm\"]",
      "text/html": [
       "<ul><li>DeutschAlgorithm</li></ul>"
      ],
      "text/plain": [
       "DeutschAlgorithm"
      ]
     },
     "execution_count": 14,
     "metadata": {},
     "output_type": "execute_result"
    }
   ],
   "source": [
    "operation DeutschAlgorithm(oracle : (Qubit[] => Unit)) : Unit{\n",
    "        using (q = Qubit[2]){\n",
    "        \n",
    "            H(q[0]);\n",
    "            H(q[1]);\n",
    "            oracle(q);\n",
    "            H(q[0]);\n",
    "\n",
    "            if(M(q[0]) == Zero){\n",
    "                Message(\"Is constant!\");\n",
    "            }\n",
    "            else{\n",
    "                Message(\"Is balanced!\");\n",
    "            }\n",
    "            ResetAll(q);\n",
    "        }\n",
    "    }"
   ]
  },
  {
   "cell_type": "code",
   "execution_count": 15,
   "metadata": {},
   "outputs": [
    {
     "data": {
      "application/json": "[\"Oracle_I2\",\"Oracle_Menos_I2\",\"Oracle_Menos_Z2\",\"Oracle_Z2\"]",
      "text/html": [
       "<ul><li>Oracle_I2</li><li>Oracle_Menos_I2</li><li>Oracle_Menos_Z2</li><li>Oracle_Z2</li></ul>"
      ],
      "text/plain": [
       "Oracle_I2, Oracle_Menos_I2, Oracle_Menos_Z2, Oracle_Z2"
      ]
     },
     "execution_count": 15,
     "metadata": {},
     "output_type": "execute_result"
    }
   ],
   "source": [
    "open Microsoft.Quantum.Math;\n",
    "// Identidade\n",
    "operation Oracle_I2(x : Qubit[]) : Unit{\n",
    "    I(x[0]);\n",
    "}\n",
    "// Pauli_Z\n",
    "operation Oracle_Z2(x : Qubit[]) : Unit{\n",
    "    Z(x[0]);\n",
    "}\n",
    "// Menos Identidade\n",
    "operation Oracle_Menos_I2(x : Qubit[]) : Unit{\n",
    "    R(PauliI, 2.0 * PI(), x[0]);\n",
    "}\n",
    "// Menos PauliZ\n",
    "operation Oracle_Menos_Z2(x : Qubit[]) : Unit{\n",
    "    Z(x[0]);\n",
    "    R(PauliI, 2.0 * PI(), x[0]);\n",
    "}"
   ]
  },
  {
   "cell_type": "code",
   "execution_count": 16,
   "metadata": {},
   "outputs": [
    {
     "data": {
      "application/json": "[\"Testes\"]",
      "text/html": [
       "<ul><li>Testes</li></ul>"
      ],
      "text/plain": [
       "Testes"
      ]
     },
     "execution_count": 16,
     "metadata": {},
     "output_type": "execute_result"
    }
   ],
   "source": [
    "operation Testes() : Unit{\n",
    "    Message(\"----------------------\");\n",
    "    Message(\"Identidade: \");\n",
    "    DeutschAlgorithm(Oracle_I2);\n",
    "    Message(\"----------------------\");\n",
    "    Message(\"PauliZ: \");\n",
    "    DeutschAlgorithm(Oracle_Z2);\n",
    "    Message(\"----------------------\");\n",
    "    Message(\"-Identidade: \");\n",
    "    DeutschAlgorithm(Oracle_Menos_I2);\n",
    "    Message(\"----------------------\");\n",
    "    Message(\"-PauliZ: \");\n",
    "    DeutschAlgorithm(Oracle_Menos_Z2);\n",
    "    Message(\"----------------------\");\n",
    "}"
   ]
  },
  {
   "cell_type": "code",
   "execution_count": 17,
   "metadata": {},
   "outputs": [
    {
     "name": "stdout",
     "output_type": "stream",
     "text": [
      "----------------------\n",
      "Identidade: \n",
      "Is constant!\n",
      "----------------------\n",
      "PauliZ: \n",
      "Is balanced!\n",
      "----------------------\n",
      "-Identidade: \n",
      "Is constant!\n",
      "----------------------\n",
      "-PauliZ: \n",
      "Is balanced!\n",
      "----------------------\n"
     ]
    },
    {
     "data": {
      "application/json": "{\"@type\":\"tuple\"}",
      "text/plain": [
       "()"
      ]
     },
     "execution_count": 17,
     "metadata": {},
     "output_type": "execute_result"
    }
   ],
   "source": [
    "%simulate Testes"
   ]
  },
  {
   "cell_type": "markdown",
   "metadata": {},
   "source": [
    "Observe que a saída é praticamente a mesma do algoritmo anterior."
   ]
  }
 ],
 "metadata": {
  "kernelspec": {
   "display_name": "Q#",
   "language": "qsharp",
   "name": "iqsharp"
  },
  "language_info": {
   "file_extension": ".qs",
   "mimetype": "text/x-qsharp",
   "name": "qsharp",
   "version": "0.10"
  }
 },
 "nbformat": 4,
 "nbformat_minor": 2
}
