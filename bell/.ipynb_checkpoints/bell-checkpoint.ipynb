{
 "cells": [
  {
   "cell_type": "markdown",
   "metadata": {},
   "source": [
    "## Estados de Bell"
   ]
  },
  {
   "cell_type": "markdown",
   "metadata": {},
   "source": [
    "Os estados de Bell são quatro estados quânticos específicos emaranhados, e foram nomeados assim, pois estão presentes na desinguadade de Bell. Podendo ser chamados também de Par EPR (em referencia ao artigo publicado por Albert Einstein, Boris Podolsky e Nathan Rosen) que se trata de um par de qubits (ou quantum bits), que estão em um estado juntos.\n",
    "Uma caracteristica desses estados é sua importância no teleport quântico."
   ]
  },
  {
   "cell_type": "markdown",
   "metadata": {},
   "source": [
    "Podemos mostrar todos os 4 estados dessa forma: \n",
    "$|\\beta _{xy}> = \\frac{1}{\\sqrt{2}}[|0,y>+(-1)^{x}|1,\\bar{y}>]$\n",
    "\n",
    "Onde x e y, são as medidas do qubits de entrada. Obtendo os sequintes estados:"
   ]
  },
  {
   "cell_type": "markdown",
   "metadata": {},
   "source": [
    "$|\\beta _{00}> = \\frac{1}{\\sqrt{2}}(|00>+|11>)$\n",
    "\n",
    "$|\\beta _{01}> = \\frac{1}{\\sqrt{2}}(|01>+|10>)$\n",
    "\n",
    "$|\\beta _{10}> = \\frac{1}{\\sqrt{2}}(|00>-|11>)$\n",
    "\n",
    "$|\\beta _{11}> = \\frac{1}{\\sqrt{2}}(|01>-|10>)$\n",
    "\n",
    "![](estadosbell.png)"
   ]
  },
  {
   "cell_type": "markdown",
   "metadata": {},
   "source": [
    "Esses estados podem ser obtidos a partir do circuito quântico:\n",
    "\n",
    "![](circuito.png)"
   ]
  },
  {
   "cell_type": "markdown",
   "metadata": {},
   "source": [
    "### Gerando e testando os estados com o QDK"
   ]
  },
  {
   "cell_type": "markdown",
   "metadata": {},
   "source": [
    "Definir operações necessárias."
   ]
  },
  {
   "cell_type": "code",
   "execution_count": 1,
   "metadata": {},
   "outputs": [
    {
     "name": "stdout",
     "output_type": "stream",
     "text": [
      "/snippet_.qs(1,90): warning QS6003: The namespace is already open.\n"
     ]
    },
    {
     "data": {
      "application/json": "[\"Set\",\"TestBellState\"]",
      "text/html": [
       "<ul><li>Set</li><li>TestBellState</li></ul>"
      ],
      "text/plain": [
       "Set, TestBellState"
      ]
     },
     "execution_count": 1,
     "metadata": {},
     "output_type": "execute_result"
    }
   ],
   "source": [
    "open Microsoft.Quantum.Intrinsic;\n",
    "open Microsoft.Quantum.Measurement;\n",
    "open Microsoft.Quantum.Convert;\n",
    "\n",
    "operation Set(q : Qubit, v : Result) : Unit{\n",
    "    if(M(q) != v){\n",
    "        X(q);\n",
    "    }\n",
    "}\n",
    "\n",
    "operation TestBellState(Simulacoes : Int, IniA : Result, IniB : Result) : Unit {\n",
    "\n",
    "        mutable NumIguais = 0;\n",
    "        \n",
    "        using ((qA, qB) = (Qubit(), Qubit())) {\n",
    "            for (i in 1..Simulacoes) {\n",
    "                Set(qA, IniA);\n",
    "                Set(qB, IniB);\n",
    "\n",
    "                H(qA);\n",
    "                CNOT(qA, qB);\n",
    "                \n",
    "                let Ma = M(qA);\n",
    "                let Mb = M(qB);\n",
    "\n",
    "                if(Mb == Ma){\n",
    "                    set NumIguais += 1;\n",
    "                }\n",
    "                \n",
    "                if(i < 10){\n",
    "                    Message(BoolAsString(ResultAsBool(Ma)) + \" \" + BoolAsString(ResultAsBool(Mb)));\n",
    "                }\n",
    "                \n",
    "            }\n",
    "\n",
    "            Set(qA, Zero);\n",
    "            Set(qB, Zero);\n",
    "        }\n",
    "        \n",
    "        Message(\" - Iguais: \" + IntAsString(NumIguais));\n",
    "    }"
   ]
  },
  {
   "cell_type": "markdown",
   "metadata": {},
   "source": [
    "Como o QDK com Jupyter ainda não suporta parâmetros. Teremos que fazer cada teste para cada estado em uma operação."
   ]
  },
  {
   "cell_type": "markdown",
   "metadata": {},
   "source": [
    "### Testando |$\\beta_{00}$>"
   ]
  },
  {
   "cell_type": "code",
   "execution_count": 2,
   "metadata": {},
   "outputs": [
    {
     "data": {
      "application/json": "[\"TesteEstados\"]",
      "text/html": [
       "<ul><li>TesteEstados</li></ul>"
      ],
      "text/plain": [
       "TesteEstados"
      ]
     },
     "execution_count": 2,
     "metadata": {},
     "output_type": "execute_result"
    }
   ],
   "source": [
    "operation TesteEstados() : Unit{\n",
    "    let simulacoes = 100;\n",
    "    let x = Zero;\n",
    "    let y = Zero;\n",
    "    TestBellState(simulacoes, x, y);\n",
    "}"
   ]
  },
  {
   "cell_type": "code",
   "execution_count": 3,
   "metadata": {},
   "outputs": [
    {
     "name": "stdout",
     "output_type": "stream",
     "text": [
      "True True\n",
      "False False\n",
      "False False\n",
      "True True\n",
      "False False\n",
      "True True\n",
      "True True\n",
      "True True\n",
      "False False\n",
      " - Iguais: 100\n"
     ]
    },
    {
     "data": {
      "application/json": "{\"@type\":\"tuple\"}",
      "text/plain": [
       "()"
      ]
     },
     "execution_count": 3,
     "metadata": {},
     "output_type": "execute_result"
    }
   ],
   "source": [
    "%simulate TesteEstados"
   ]
  },
  {
   "cell_type": "markdown",
   "metadata": {},
   "source": [
    "### Testando |$\\beta_{01}$>"
   ]
  },
  {
   "cell_type": "code",
   "execution_count": 4,
   "metadata": {},
   "outputs": [
    {
     "data": {
      "application/json": "[\"TesteEstados\"]",
      "text/html": [
       "<ul><li>TesteEstados</li></ul>"
      ],
      "text/plain": [
       "TesteEstados"
      ]
     },
     "execution_count": 4,
     "metadata": {},
     "output_type": "execute_result"
    }
   ],
   "source": [
    "operation TesteEstados() : Unit{\n",
    "    let simulacoes = 100;\n",
    "    let x = Zero;\n",
    "    let y = One;\n",
    "    TestBellState(simulacoes, x, y);\n",
    "}"
   ]
  },
  {
   "cell_type": "code",
   "execution_count": 5,
   "metadata": {},
   "outputs": [
    {
     "name": "stdout",
     "output_type": "stream",
     "text": [
      "False True\n",
      "False True\n",
      "False True\n",
      "False True\n",
      "False True\n",
      "False True\n",
      "True False\n",
      "False True\n",
      "True False\n",
      " - Iguais: 0\n"
     ]
    },
    {
     "data": {
      "application/json": "{\"@type\":\"tuple\"}",
      "text/plain": [
       "()"
      ]
     },
     "execution_count": 5,
     "metadata": {},
     "output_type": "execute_result"
    }
   ],
   "source": [
    "%simulate TesteEstados"
   ]
  },
  {
   "cell_type": "markdown",
   "metadata": {},
   "source": [
    "### Testando |$\\beta_{10}$>"
   ]
  },
  {
   "cell_type": "code",
   "execution_count": 6,
   "metadata": {},
   "outputs": [
    {
     "data": {
      "application/json": "[\"TesteEstados\"]",
      "text/html": [
       "<ul><li>TesteEstados</li></ul>"
      ],
      "text/plain": [
       "TesteEstados"
      ]
     },
     "execution_count": 6,
     "metadata": {},
     "output_type": "execute_result"
    }
   ],
   "source": [
    "operation TesteEstados() : Unit{\n",
    "    let simulacoes = 100;\n",
    "    let x = One;\n",
    "    let y = Zero;\n",
    "    TestBellState(simulacoes, x, y);\n",
    "}"
   ]
  },
  {
   "cell_type": "code",
   "execution_count": 7,
   "metadata": {},
   "outputs": [
    {
     "name": "stdout",
     "output_type": "stream",
     "text": [
      "True True\n",
      "True True\n",
      "True True\n",
      "True True\n",
      "True True\n",
      "False False\n",
      "False False\n",
      "False False\n",
      "True True\n",
      " - Iguais: 100\n"
     ]
    },
    {
     "data": {
      "application/json": "{\"@type\":\"tuple\"}",
      "text/plain": [
       "()"
      ]
     },
     "execution_count": 7,
     "metadata": {},
     "output_type": "execute_result"
    }
   ],
   "source": [
    "%simulate TesteEstados"
   ]
  },
  {
   "cell_type": "markdown",
   "metadata": {},
   "source": [
    "### Testando |$\\beta_{11}$>"
   ]
  },
  {
   "cell_type": "code",
   "execution_count": 8,
   "metadata": {},
   "outputs": [
    {
     "data": {
      "application/json": "[\"TesteEstados\"]",
      "text/html": [
       "<ul><li>TesteEstados</li></ul>"
      ],
      "text/plain": [
       "TesteEstados"
      ]
     },
     "execution_count": 8,
     "metadata": {},
     "output_type": "execute_result"
    }
   ],
   "source": [
    "operation TesteEstados() : Unit{\n",
    "    let simulacoes = 100;\n",
    "    let x = One;\n",
    "    let y = One;\n",
    "    TestBellState(simulacoes, x, y);\n",
    "}"
   ]
  },
  {
   "cell_type": "code",
   "execution_count": 9,
   "metadata": {},
   "outputs": [
    {
     "name": "stdout",
     "output_type": "stream",
     "text": [
      "False True\n",
      "False True\n",
      "True False\n",
      "False True\n",
      "True False\n",
      "True False\n",
      "False True\n",
      "True False\n",
      "False True\n",
      " - Iguais: 0\n"
     ]
    },
    {
     "data": {
      "application/json": "{\"@type\":\"tuple\"}",
      "text/plain": [
       "()"
      ]
     },
     "execution_count": 9,
     "metadata": {},
     "output_type": "execute_result"
    }
   ],
   "source": [
    "%simulate TesteEstados"
   ]
  }
 ],
 "metadata": {
  "kernelspec": {
   "display_name": "Q#",
   "language": "qsharp",
   "name": "iqsharp"
  },
  "language_info": {
   "file_extension": ".qs",
   "mimetype": "text/x-qsharp",
   "name": "qsharp",
   "version": "0.10"
  }
 },
 "nbformat": 4,
 "nbformat_minor": 2
}
