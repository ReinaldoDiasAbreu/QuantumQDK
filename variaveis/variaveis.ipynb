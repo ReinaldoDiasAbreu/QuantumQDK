{
 "cells": [
  {
   "cell_type": "markdown",
   "metadata": {},
   "source": [
    "### Variáveis e Estruturas do QDK"
   ]
  },
  {
   "cell_type": "code",
   "execution_count": 1,
   "metadata": {},
   "outputs": [
    {
     "data": {
      "application/json": "{\"rows\":[{\"@type\":\"@tuple\",\"Item1\":\"iqsharp\",\"Item2\":\"0.11.2006.403\"},{\"@type\":\"@tuple\",\"Item1\":\"Jupyter Core\",\"Item2\":\"1.3.60623.0\"},{\"@type\":\"@tuple\",\"Item1\":\".NET Runtime\",\"Item2\":\".NETCoreApp,Version=v3.1\"}]}",
      "text/html": [
       "<table><thead><tr><th>Component</th><th>Version</th></tr></thead><tbody><tr><td>iqsharp</td><td>0.11.2006.403</td></tr><tr><td>Jupyter Core</td><td>1.3.60623.0</td></tr><tr><td>.NET Runtime</td><td>.NETCoreApp,Version=v3.1</td></tr></tbody></table>"
      ],
      "text/plain": [
       "Component    Version\n",
       "------------ ------------------------\n",
       "iqsharp      0.11.2006.403\n",
       "Jupyter Core 1.3.60623.0\n",
       ".NET Runtime .NETCoreApp,Version=v3.1\n"
      ]
     },
     "metadata": {},
     "output_type": "display_data"
    }
   ],
   "source": [
    "%version"
   ]
  },
  {
   "cell_type": "markdown",
   "metadata": {},
   "source": [
    "### Tipos de Variáveis"
   ]
  },
  {
   "cell_type": "markdown",
   "metadata": {},
   "source": [
    "- Variáveis Imutáveis: \n",
    "> O valor desse tipo de variável não pode ser alterado dentro do seu escopo. Seu uso é incentivado porque permite que o compilador execute mais otimizações. Uma associação imutável consiste na palavra-chave \"let\", seguida por uma tupla de símbolo ou símbolo, um sinal de igual(=), uma expressão para associar os símbolos a ela e um ponto e vírgula de terminação."
   ]
  },
  {
   "cell_type": "code",
   "execution_count": 2,
   "metadata": {},
   "outputs": [
    {
     "data": {
      "application/json": "[\"VarImutavel\"]",
      "text/html": [
       "<ul><li>VarImutavel</li></ul>"
      ],
      "text/plain": [
       "VarImutavel"
      ]
     },
     "execution_count": 2,
     "metadata": {},
     "output_type": "execute_result"
    }
   ],
   "source": [
    "operation VarImutavel() : Int {\n",
    "    let x = 10;\n",
    "    // set x = 4; // Operação inválida\n",
    "    return x;\n",
    "}"
   ]
  },
  {
   "cell_type": "code",
   "execution_count": 3,
   "metadata": {},
   "outputs": [
    {
     "data": {
      "application/json": "10",
      "text/plain": [
       "10"
      ]
     },
     "execution_count": 3,
     "metadata": {},
     "output_type": "execute_result"
    }
   ],
   "source": [
    "%simulate VarImutavel"
   ]
  },
  {
   "cell_type": "markdown",
   "metadata": {},
   "source": [
    "- Variáveis Mutáveis: \n",
    "> Como alternativa à criação de uma variável com \"let\", a \"mutable\" criará uma variável mutável que pode ser revinculada depois de ser inicialmente criada usando o \"set\"."
   ]
  },
  {
   "cell_type": "code",
   "execution_count": 4,
   "metadata": {},
   "outputs": [
    {
     "data": {
      "application/json": "[\"VarMutavel\"]",
      "text/html": [
       "<ul><li>VarMutavel</li></ul>"
      ],
      "text/plain": [
       "VarMutavel"
      ]
     },
     "execution_count": 4,
     "metadata": {},
     "output_type": "execute_result"
    }
   ],
   "source": [
    "operation VarMutavel() : Int{\n",
    "    mutable x = 10;\n",
    "    set x = 4;\n",
    "    return x;\n",
    "}"
   ]
  },
  {
   "cell_type": "code",
   "execution_count": 5,
   "metadata": {},
   "outputs": [
    {
     "data": {
      "application/json": "4",
      "text/plain": [
       "4"
      ]
     },
     "execution_count": 5,
     "metadata": {},
     "output_type": "execute_result"
    }
   ],
   "source": [
    "%simulate VarMutavel"
   ]
  },
  {
   "cell_type": "markdown",
   "metadata": {},
   "source": [
    "### Tipos Primitivos"
   ]
  },
  {
   "cell_type": "markdown",
   "metadata": {},
   "source": [
    "Temos 10 tipos primitivos: Int, BigInt, Double, Bool, Range, String, Unit, Qubit, Pauli, Result"
   ]
  },
  {
   "cell_type": "markdown",
   "metadata": {},
   "source": [
    "TIPO | Descrição\n",
    ":-------:|:---------:\n",
    "Int | Números Inteiros com Sinal de 64Bits \n",
    "BigInt | Inteiro assinado de tamanho arbitrário\n",
    "Double | Número de ponto flutuante de precisão dupla\n",
    "Bool |Valor booleano que pode ser true ou false\n",
    "Range | Representa uma sequência de números inteiros (start..step..stop)\n",
    "String | Sequência de caracteres.\n",
    "Unit | Tipo que permite apenas um valor ( )\n",
    "Qubit | Representa um bit quântico ou qubit\n",
    "Pauli | Representa os operadores de Pauli de qubit único\n",
    "Result | Representa o resultado de uma medida (One ou Zero)"
   ]
  },
  {
   "cell_type": "markdown",
   "metadata": {},
   "source": [
    "Alguns exemplos de declaração e impressão, alguns tipos não foi possível exibí-los:"
   ]
  },
  {
   "cell_type": "code",
   "execution_count": 6,
   "metadata": {},
   "outputs": [
    {
     "data": {
      "application/json": "[\"TiposPrimitivos\"]",
      "text/html": [
       "<ul><li>TiposPrimitivos</li></ul>"
      ],
      "text/plain": [
       "TiposPrimitivos"
      ]
     },
     "execution_count": 6,
     "metadata": {},
     "output_type": "execute_result"
    }
   ],
   "source": [
    "open Microsoft.Quantum.Convert; // Namespace de conversão de tipos\n",
    "\n",
    "operation TiposPrimitivos() : Unit{\n",
    "    let inteiro = 10;\n",
    "    Message(\"Int: \" + IntAsString(inteiro));\n",
    "    \n",
    "    let flutuante = 3.141592;\n",
    "    Message(\"Double: \" + DoubleAsString(flutuante));\n",
    "    \n",
    "    let boleano = true;\n",
    "    Message(\"Bool: \" + BoolAsString(boleano));\n",
    "    \n",
    "    let palavra = \"Hello World!!!\";\n",
    "    Message(\"String: \" + palavra);\n",
    "    \n",
    "    let bit = One;\n",
    "    Message(\"Result: \" + BoolAsString(ResultAsBool(bit)));\n",
    "    \n",
    "}"
   ]
  },
  {
   "cell_type": "code",
   "execution_count": 7,
   "metadata": {},
   "outputs": [
    {
     "name": "stdout",
     "output_type": "stream",
     "text": [
      "Int: 10\n",
      "Double: 3,141592\n",
      "Bool: True\n",
      "String: Hello World!!!\n",
      "Result: True\n"
     ]
    },
    {
     "data": {
      "application/json": "{\"@type\":\"tuple\"}",
      "text/plain": [
       "()"
      ]
     },
     "execution_count": 7,
     "metadata": {},
     "output_type": "execute_result"
    }
   ],
   "source": [
    "%simulate TiposPrimitivos"
   ]
  },
  {
   "cell_type": "markdown",
   "metadata": {},
   "source": [
    "### Tipos Definidos pelo Usuário"
   ]
  },
  {
   "cell_type": "markdown",
   "metadata": {},
   "source": [
    "É possível contruir o seu própio tipo de variável. Como no exemplo:"
   ]
  },
  {
   "cell_type": "code",
   "execution_count": 8,
   "metadata": {},
   "outputs": [
    {
     "data": {
      "application/json": "[\"coord\",\"NovosTipos\"]",
      "text/html": [
       "<ul><li>coord</li><li>NovosTipos</li></ul>"
      ],
      "text/plain": [
       "coord, NovosTipos"
      ]
     },
     "execution_count": 8,
     "metadata": {},
     "output_type": "execute_result"
    }
   ],
   "source": [
    "newtype coord = (Int, Int);\n",
    "operation NovosTipos() : coord{\n",
    "    let p1 = coord(1,2);\n",
    "    return p1;\n",
    "}"
   ]
  },
  {
   "cell_type": "code",
   "execution_count": 9,
   "metadata": {},
   "outputs": [
    {
     "data": {
      "application/json": "{\"@type\":\"SNIPPET.coord\",\"Item1\":1,\"Item2\":2}",
      "text/plain": [
       "coord((1, 2))"
      ]
     },
     "execution_count": 9,
     "metadata": {},
     "output_type": "execute_result"
    }
   ],
   "source": [
    "%simulate NovosTipos"
   ]
  },
  {
   "cell_type": "markdown",
   "metadata": {},
   "source": [
    "Temos também os tipos nomeados:"
   ]
  },
  {
   "cell_type": "code",
   "execution_count": 10,
   "metadata": {},
   "outputs": [
    {
     "data": {
      "application/json": "[\"complex\"]",
      "text/html": [
       "<ul><li>complex</li></ul>"
      ],
      "text/plain": [
       "complex"
      ]
     },
     "execution_count": 10,
     "metadata": {},
     "output_type": "execute_result"
    }
   ],
   "source": [
    "newtype complex = (Re: Double, Im: Double);"
   ]
  },
  {
   "cell_type": "code",
   "execution_count": 11,
   "metadata": {},
   "outputs": [
    {
     "data": {
      "application/json": "[\"PrintCp\"]",
      "text/html": [
       "<ul><li>PrintCp</li></ul>"
      ],
      "text/plain": [
       "PrintCp"
      ]
     },
     "execution_count": 11,
     "metadata": {},
     "output_type": "execute_result"
    }
   ],
   "source": [
    "open Microsoft.Quantum.Convert; \n",
    "function PrintCp(value : complex) : Unit{\n",
    "    Message(\"Re:\" + DoubleAsString(value::Re) + \" Im:\" + DoubleAsString(value::Im));\n",
    "}"
   ]
  },
  {
   "cell_type": "code",
   "execution_count": 12,
   "metadata": {},
   "outputs": [
    {
     "data": {
      "application/json": "[\"ComplexNumber\"]",
      "text/html": [
       "<ul><li>ComplexNumber</li></ul>"
      ],
      "text/plain": [
       "ComplexNumber"
      ]
     },
     "execution_count": 12,
     "metadata": {},
     "output_type": "execute_result"
    }
   ],
   "source": [
    "operation ComplexNumber() : Unit{\n",
    "    let value = complex(1.0,0.0);\n",
    "    PrintCp(value);\n",
    "}"
   ]
  },
  {
   "cell_type": "code",
   "execution_count": 13,
   "metadata": {},
   "outputs": [
    {
     "name": "stdout",
     "output_type": "stream",
     "text": [
      "Re:1 Im:0\n"
     ]
    },
    {
     "data": {
      "application/json": "{\"@type\":\"tuple\"}",
      "text/plain": [
       "()"
      ]
     },
     "execution_count": 13,
     "metadata": {},
     "output_type": "execute_result"
    }
   ],
   "source": [
    "%simulate ComplexNumber"
   ]
  },
  {
   "cell_type": "markdown",
   "metadata": {},
   "source": [
    "### Estruturas de Decisão"
   ]
  },
  {
   "cell_type": "markdown",
   "metadata": {},
   "source": [
    "São simples como em qualquer outra liguagem.\n",
    "> Temos os sinais de comparação semelhantes a linguagem Python: >, <, ==, !="
   ]
  },
  {
   "cell_type": "code",
   "execution_count": 14,
   "metadata": {},
   "outputs": [
    {
     "data": {
      "application/json": "[\"estruturasdecisao\"]",
      "text/html": [
       "<ul><li>estruturasdecisao</li></ul>"
      ],
      "text/plain": [
       "estruturasdecisao"
      ]
     },
     "execution_count": 14,
     "metadata": {},
     "output_type": "execute_result"
    }
   ],
   "source": [
    "operation estruturasdecisao() : Unit{\n",
    "    let v = 5;\n",
    "    \n",
    "    if(v > 10){\n",
    "        Message(\"Valor Maior que 10\");\n",
    "    }\n",
    "    elif(v < 10){\n",
    "        Message(\"Valor Menor que 10\");\n",
    "    }\n",
    "    else{ // v == 10\n",
    "        Message(\"Valor igual a 10\");\n",
    "    }\n",
    "    \n",
    "    if(v != 10){\n",
    "        Message(\"Valor diferente de 10\");\n",
    "    }\n",
    "}"
   ]
  },
  {
   "cell_type": "code",
   "execution_count": 15,
   "metadata": {},
   "outputs": [
    {
     "name": "stdout",
     "output_type": "stream",
     "text": [
      "Valor Menor que 10\n",
      "Valor diferente de 10\n"
     ]
    },
    {
     "data": {
      "application/json": "{\"@type\":\"tuple\"}",
      "text/plain": [
       "()"
      ]
     },
     "execution_count": 15,
     "metadata": {},
     "output_type": "execute_result"
    }
   ],
   "source": [
    "%simulate estruturasdecisao"
   ]
  },
  {
   "cell_type": "markdown",
   "metadata": {},
   "source": [
    "### Estruturas de Repetição"
   ]
  },
  {
   "cell_type": "markdown",
   "metadata": {},
   "source": [
    "#### For"
   ]
  },
  {
   "cell_type": "code",
   "execution_count": 16,
   "metadata": {},
   "outputs": [
    {
     "data": {
      "application/json": "[\"For\"]",
      "text/html": [
       "<ul><li>For</li></ul>"
      ],
      "text/plain": [
       "For"
      ]
     },
     "execution_count": 16,
     "metadata": {},
     "output_type": "execute_result"
    }
   ],
   "source": [
    "open Microsoft.Quantum.Convert;\n",
    "operation For() : Unit{\n",
    "    let v = 20;\n",
    "    for(i in 1..2..v){\n",
    "        Message(IntAsString(i));\n",
    "    }\n",
    "}"
   ]
  },
  {
   "cell_type": "code",
   "execution_count": 17,
   "metadata": {},
   "outputs": [
    {
     "name": "stdout",
     "output_type": "stream",
     "text": [
      "1\n",
      "3\n",
      "5\n",
      "7\n",
      "9\n",
      "11\n",
      "13\n",
      "15\n",
      "17\n",
      "19\n"
     ]
    },
    {
     "data": {
      "application/json": "{\"@type\":\"tuple\"}",
      "text/plain": [
       "()"
      ]
     },
     "execution_count": 17,
     "metadata": {},
     "output_type": "execute_result"
    }
   ],
   "source": [
    "%simulate For"
   ]
  },
  {
   "cell_type": "markdown",
   "metadata": {},
   "source": [
    "#### While"
   ]
  },
  {
   "cell_type": "code",
   "execution_count": 18,
   "metadata": {},
   "outputs": [
    {
     "name": "stderr",
     "output_type": "stream",
     "text": [
      "/snippet_.qs(5,5): error QS4013: While-loops cannot be used in operations. Avoid conditional loops in operations if possible, and use a repeat-until-success pattern otherwise.\n"
     ]
    }
   ],
   "source": [
    "operation While() : Unit{\n",
    "    let v = 20;\n",
    "    mutable i = 1;\n",
    "    \n",
    "    while(i < v){\n",
    "        set i = i + 1;\n",
    "    }\n",
    "}"
   ]
  },
  {
   "cell_type": "code",
   "execution_count": 20,
   "metadata": {},
   "outputs": [
    {
     "data": {
      "application/json": "[\"WhileRep\"]",
      "text/html": [
       "<ul><li>WhileRep</li></ul>"
      ],
      "text/plain": [
       "WhileRep"
      ]
     },
     "execution_count": 20,
     "metadata": {},
     "output_type": "execute_result"
    }
   ],
   "source": [
    "open Microsoft.Quantum.Convert;\n",
    "function WhileRep() : Unit{\n",
    "    let v = 20;\n",
    "    mutable i = 1;\n",
    "    \n",
    "    while(i < v){\n",
    "        Message(IntAsString(i));\n",
    "        set i = i + 2;\n",
    "    }\n",
    "}"
   ]
  },
  {
   "cell_type": "code",
   "execution_count": 21,
   "metadata": {},
   "outputs": [
    {
     "name": "stdout",
     "output_type": "stream",
     "text": [
      "1\n",
      "3\n",
      "5\n",
      "7\n",
      "9\n",
      "11\n",
      "13\n",
      "15\n",
      "17\n",
      "19\n"
     ]
    },
    {
     "data": {
      "application/json": "{\"@type\":\"tuple\"}",
      "text/plain": [
       "()"
      ]
     },
     "execution_count": 21,
     "metadata": {},
     "output_type": "execute_result"
    }
   ],
   "source": [
    "%simulate WhileRep"
   ]
  },
  {
   "cell_type": "code",
   "execution_count": null,
   "metadata": {},
   "outputs": [],
   "source": []
  }
 ],
 "metadata": {
  "kernelspec": {
   "display_name": "Q#",
   "language": "qsharp",
   "name": "iqsharp"
  },
  "language_info": {
   "file_extension": ".qs",
   "mimetype": "text/x-qsharp",
   "name": "qsharp",
   "version": "0.10"
  }
 },
 "nbformat": 4,
 "nbformat_minor": 2
}
