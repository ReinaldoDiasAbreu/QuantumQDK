{
 "cells": [
  {
   "cell_type": "markdown",
   "metadata": {},
   "source": [
    "### Criptografia Quântica - Protocolo BB84\n",
    "\n",
    "O protocolo BB84, escrito por  Charles Bennett and Gilles Brassard em 1984. É o primeiro protocolo que descreve uma forma segura de transferência de chave para criptografia. \n",
    "\n",
    "O protocolo é comprovadamente seguro, contando com a propriedade quântica de que o ganho de informação só é possível à custa de perturbar o sinal e não ser possível copiar e retransmitir os qubits sem alterá-lo (veja o teorema da não-clonagem). Geralmente, é explicado como um método de comunicação segura de uma chave privada de uma parte para outra para uso na criptografia de bloco de uso único."
   ]
  },
  {
   "cell_type": "markdown",
   "metadata": {},
   "source": [
    "##### Exemplo de Funcionamento\n",
    "\n",
    "Um exemplo de funcionamento desse protocolo é por meio da transmissão de qubits com fótons.\n",
    "Tanto Alice quanto Bob, vão ter disponíveis 2 bases, que seriam polarizadores que vão escolher aleatóriamente para medir ou enviar os fótons.\n",
    "\n",
    "![](bases.png)\n",
    "\n",
    "Assim o funcionamento com a escolha aleatória das bases será o seguinte:\n",
    "\n",
    "- Alice tem 1 bit que quer enviar\n",
    "- Ela escolhe aleatoriamente uma base\n",
    "- Polariza o seu fóton usando a base esolhida com o bit a ser enviado\n",
    "- Bob recebe o fóton e escolhe uma base aletória para leitura\n",
    "- Se Bob escolher uma base idêntica a de Alice, o bit será o mesmo, caso contrário o resultado é aleatório.\n",
    "- Repete os passos anteriores, onde cada um vai anotar as bases utilizadas, e os bits enviados ou lidos.\n",
    "- Após envio dos Bits de Alice, Bob e Alice compartilham as bases usadas, e a chave será os bits cujas bases foram correspondidas.\n",
    "\n",
    "![](protocolo.png)"
   ]
  },
  {
   "cell_type": "markdown",
   "metadata": {},
   "source": [
    "A partir desse ponto, com a chave segura em cada um dos lados, é usado um agoritmo de criptografia de chave única para criptografar a mensagem. É usado geralmente o algoritmo One-time pad (OTP) para isso."
   ]
  },
  {
   "cell_type": "markdown",
   "metadata": {},
   "source": [
    "#### Simulação\n",
    "\n",
    "Para simular esse processo no Q#, vamos utilizar uma alternativa que funciona, para simular sem o uso de fótons.\n",
    "Para representar a escolha de bases, vamos ter 2, o uso da porta Hadamard (H) ou não no qubit antes de enviar, e o mesmo para ler. Assim caso Alice envie um qubit aplicando a Hadamard (H) se Bob antes de ler também aplicar ele retornará ao estado original, tendo uma leitura correta, se não, ele terá uma medida aleatória.\n",
    "\n",
    "Vamos aplicar isso no Q#, e com Python, fazer uso dessa chave para criptografar mensagens."
   ]
  },
  {
   "cell_type": "code",
   "execution_count": null,
   "metadata": {},
   "outputs": [],
   "source": []
  }
 ],
 "metadata": {
  "kernelspec": {
   "display_name": "Q#",
   "language": "qsharp",
   "name": "iqsharp"
  },
  "language_info": {
   "file_extension": ".qs",
   "mimetype": "text/x-qsharp",
   "name": "qsharp",
   "version": "0.4"
  }
 },
 "nbformat": 4,
 "nbformat_minor": 4
}
